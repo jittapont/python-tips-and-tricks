{
 "cells": [
  {
   "cell_type": "markdown",
   "metadata": {},
   "source": [
    "<h1 style=\"color:#2F4F4F;font-family:courier;font-weight: bold\">🐍🐍🐍 Python tips and tricks 🐍🐍🐍</h1>\n",
    "<ul style=\"list-style-type:none;\">\n",
    "<li><h3 style=\"color:#2F4F4F;font-family:courier;\">- Zen of python</h3></li>\n",
    "<li><h3 style=\"color:#2F4F4F;font-family:courier;\">- Itertools</h3></li>\n",
    "<li><h3 style=\"color:#2F4F4F;font-family:courier;\">- Functools</h3></li>\n",
    "<li><h3 style=\"color:#2F4F4F;font-family:courier;\">- Collections</h3></li>\n",
    "<li><h3 style=\"color:#2F4F4F;font-family:courier;\">- Map, filter, reduce</h3></li>\n",
    "<li><h3 style=\"color:#2F4F4F;font-family:courier;\">- args and kwargs (*, **)</h3></li>\n",
    "<li><h3 style=\"color:#2F4F4F;font-family:courier;\">- Decorators</h3></li>\n",
    "<li><h3 style=\"color:#2F4F4F;font-family:courier;\">- Logging</h3></li>\n",
    "<li><h3 style=\"color:#2F4F4F;font-family:courier;\">- Concurrent.futures</h3></li>\n",
    "<li><h3 style=\"color:#2F4F4F;font-family:courier;\">- Exec and eval</h3></li>\n",
    "<li><h3 style=\"color:#2F4F4F;font-family:courier;\">- Variable scope</h3></li>\n",
    "<li><h3 style=\"color:#2F4F4F;font-family:courier;\">- Create module and sys.path.append</h3></li>\n",
    "<li><h3 style=\"color:#2F4F4F;font-family:courier;\">- Dataclasses</h3></li>\n",
    "<li><h3 style=\"color:#2F4F4F;font-family:courier;\">- str vs repr</h3></li>\n",
    "<li><h3 style=\"color:#2F4F4F;font-family:courier;\">- join list instead of string concatenation</h3></li>\n",
    "</ul>\n",
    "<br>\n",
    "<hr>\n",
    "<br>\n",
    "<strong><h2 style=\"color:#2F4F4F;font-family:courier;font-weight: bold;\">🐼🐼🐼 Pandas tips 🐼🐼🐼</h2></strong>\n",
    "<ul style=\"list-style-type:none;\">\n",
    "<li><h3 style=\"color:#2F4F4F;font-family:courier;\">- Pandas method chaining (assign, query, where)</h3></li>\n",
    "<li><h3 style=\"color:#2F4F4F;font-family:courier;\">- Pandas SettingWithCopyWarning</h3></li>\n",
    "</ul>\n",
    "<br>\n",
    "<hr>\n",
    "<br>\n",
    "<h2 style=\"color:#2F4F4F;font-family:courier;font-weight: bold;\">⚠️⚠️⚠️ Exceptions ⚠️⚠️⚠️</h2>\n",
    "<ul style=\"list-style-type:none;\">\n",
    "<li><h3 style=\"color:#2F4F4F;font-family:courier;\">- User define exception</h3></li>    \n",
    "<li><h3 style=\"color:#2F4F4F;font-family:courier;\">- Repr and exception</h3></li>\n",
    "<li><h3 style=\"color:#2F4F4F;font-family:courier;\">- Assert keyword</h3></li>\n",
    "</ul>\n",
    "<br>\n",
    "<-- <img src=\"david-clode-8e7wIZ5epeE-unsplash.jpg\" width=\"400\" style=\"margin-left: auto;margin-right: auto;\" />"
   ]
  },
  {
   "cell_type": "code",
   "execution_count": null,
   "metadata": {},
   "outputs": [],
   "source": []
  },
  {
   "cell_type": "code",
   "execution_count": null,
   "metadata": {},
   "outputs": [],
   "source": []
  },
  {
   "cell_type": "code",
   "execution_count": null,
   "metadata": {},
   "outputs": [],
   "source": []
  },
  {
   "cell_type": "code",
   "execution_count": null,
   "metadata": {},
   "outputs": [],
   "source": []
  },
  {
   "cell_type": "code",
   "execution_count": null,
   "metadata": {},
   "outputs": [],
   "source": []
  }
 ],
 "metadata": {
  "kernelspec": {
   "display_name": "Python 3",
   "language": "python",
   "name": "python3"
  },
  "language_info": {
   "codemirror_mode": {
    "name": "ipython",
    "version": 3
   },
   "file_extension": ".py",
   "mimetype": "text/x-python",
   "name": "python",
   "nbconvert_exporter": "python",
   "pygments_lexer": "ipython3",
   "version": "3.7.3"
  }
 },
 "nbformat": 4,
 "nbformat_minor": 4
}
